{
  "nbformat": 4,
  "nbformat_minor": 0,
  "metadata": {
    "kernelspec": {
      "display_name": "Python 3",
      "language": "python",
      "name": "python3"
    },
    "language_info": {
      "codemirror_mode": {
        "name": "ipython",
        "version": 3
      },
      "file_extension": ".py",
      "mimetype": "text/x-python",
      "name": "python",
      "nbconvert_exporter": "python",
      "pygments_lexer": "ipython3",
      "version": "3.7.3"
    },
    "colab": {
      "name": "MNIST-ConvNets-PedroB (1).ipynb",
      "provenance": [],
      "include_colab_link": true
    }
  },
  "cells": [
    {
      "cell_type": "markdown",
      "metadata": {
        "id": "view-in-github",
        "colab_type": "text"
      },
      "source": [
        "<a href=\"https://colab.research.google.com/github/pedroblossbraga/Convolutional-Neural-Nets/blob/master/MNIST_ConvNets_PedroB_(1).ipynb\" target=\"_parent\"><img src=\"https://colab.research.google.com/assets/colab-badge.svg\" alt=\"Open In Colab\"/></a>"
      ]
    },
    {
      "cell_type": "code",
      "metadata": {
        "id": "aS5b5Pu8NQqg",
        "colab_type": "code",
        "colab": {},
        "outputId": "e6b9d178-8fea-4da9-8496-9ea13beb3a1f"
      },
      "source": [
        "import keras"
      ],
      "execution_count": 0,
      "outputs": [
        {
          "output_type": "stream",
          "text": [
            "Using TensorFlow backend.\n"
          ],
          "name": "stderr"
        }
      ]
    },
    {
      "cell_type": "code",
      "metadata": {
        "id": "K0PNM3waNQq7",
        "colab_type": "code",
        "colab": {}
      },
      "source": [
        "from __future__ import print_function\n",
        "from keras.datasets import mnist\n",
        "from keras import backend as K\n",
        "from keras.models import Sequential\n",
        "from keras.layers import Dense, Dropout, Flatten\n",
        "from keras.layers import Conv2D, MaxPooling2D\n",
        "\n",
        "import matplotlib.pyplot as plt\n",
        "import numpy as np"
      ],
      "execution_count": 0,
      "outputs": []
    },
    {
      "cell_type": "code",
      "metadata": {
        "id": "4qCFdmoGNQrJ",
        "colab_type": "code",
        "colab": {}
      },
      "source": [
        "(X_train, y_train), (X_test, y_test) = mnist.load_data()"
      ],
      "execution_count": 0,
      "outputs": []
    },
    {
      "cell_type": "code",
      "metadata": {
        "id": "qwWdcTtYNQrb",
        "colab_type": "code",
        "colab": {},
        "outputId": "6469c0c7-07a2-4c85-e499-61efa9c0db90"
      },
      "source": [
        "X_train.shape"
      ],
      "execution_count": 0,
      "outputs": [
        {
          "output_type": "execute_result",
          "data": {
            "text/plain": [
              "(60000, 28, 28)"
            ]
          },
          "metadata": {
            "tags": []
          },
          "execution_count": 5
        }
      ]
    },
    {
      "cell_type": "code",
      "metadata": {
        "id": "UOtVMbU1NQro",
        "colab_type": "code",
        "colab": {},
        "outputId": "eecf2396-7bb5-47c0-82c7-9dd2ea4ef46e"
      },
      "source": [
        "y_train.shape"
      ],
      "execution_count": 0,
      "outputs": [
        {
          "output_type": "execute_result",
          "data": {
            "text/plain": [
              "(60000,)"
            ]
          },
          "metadata": {
            "tags": []
          },
          "execution_count": 6
        }
      ]
    },
    {
      "cell_type": "code",
      "metadata": {
        "id": "5as34CFuNQr4",
        "colab_type": "code",
        "colab": {},
        "outputId": "09c1cbdb-285e-4f2c-8536-b422bba586bd"
      },
      "source": [
        "X_test.shape"
      ],
      "execution_count": 0,
      "outputs": [
        {
          "output_type": "execute_result",
          "data": {
            "text/plain": [
              "(10000, 28, 28)"
            ]
          },
          "metadata": {
            "tags": []
          },
          "execution_count": 7
        }
      ]
    },
    {
      "cell_type": "code",
      "metadata": {
        "id": "fyNgHBjINQsJ",
        "colab_type": "code",
        "colab": {},
        "outputId": "2d17b31b-c6cc-4154-ce48-d589f91f9bff"
      },
      "source": [
        "y_test.shape"
      ],
      "execution_count": 0,
      "outputs": [
        {
          "output_type": "execute_result",
          "data": {
            "text/plain": [
              "(10000,)"
            ]
          },
          "metadata": {
            "tags": []
          },
          "execution_count": 8
        }
      ]
    },
    {
      "cell_type": "markdown",
      "metadata": {
        "id": "YIth55oANQsb",
        "colab_type": "text"
      },
      "source": [
        "Exibindo alguns dígitos..."
      ]
    },
    {
      "cell_type": "code",
      "metadata": {
        "id": "9COLe0SMNQsl",
        "colab_type": "code",
        "colab": {},
        "outputId": "81a829f1-8675-4c83-ddc1-e27d11f6aea1"
      },
      "source": [
        "fig = plt.figure()\n",
        "for i in range(9):\n",
        "    plt.subplot(3, 3, i+1)\n",
        "    plt.tight_layout()\n",
        "    plt.imshow(X_train[i], cmap='gray', interpolation='none')\n",
        "    plt.title('Dígito: {}'.format(y_train[i]))\n",
        "    plt.xticks([])\n",
        "    plt.yticks([])\n",
        "plt.show()"
      ],
      "execution_count": 0,
      "outputs": [
        {
          "output_type": "display_data",
          "data": {
            "image/png": "[encoded data removed]",
            "text/plain": [
              "<Figure size 432x288 with 9 Axes>"
            ]
          },
          "metadata": {
            "tags": []
          }
        }
      ]
    },
    {
      "cell_type": "code",
      "metadata": {
        "id": "YgGRoQChNQsx",
        "colab_type": "code",
        "colab": {}
      },
      "source": [
        "batch_size = 128\n",
        "num_classes = 10\n",
        "epochs = 12"
      ],
      "execution_count": 0,
      "outputs": []
    },
    {
      "cell_type": "code",
      "metadata": {
        "id": "5muMhe7oNQs_",
        "colab_type": "code",
        "colab": {}
      },
      "source": [
        "# dimensoes dos dados de input\n",
        "img_rows, img_cols = 28, 28"
      ],
      "execution_count": 0,
      "outputs": []
    },
    {
      "cell_type": "markdown",
      "metadata": {
        "id": "GY-Qj4eUNQtK",
        "colab_type": "text"
      },
      "source": [
        "### Preparação dos dados"
      ]
    },
    {
      "cell_type": "markdown",
      "metadata": {
        "id": "kG641DefNQtM",
        "colab_type": "text"
      },
      "source": [
        "Preparando os dados, com alteração de tamanhos, normalização de valores de pixel, etc."
      ]
    },
    {
      "cell_type": "code",
      "metadata": {
        "id": "qAKPO8AdNQtQ",
        "colab_type": "code",
        "colab": {},
        "outputId": "e8c0b6af-3e81-465f-f4cc-7732845ec0d7"
      },
      "source": [
        "if K.image_data_format() == 'channels_first':\n",
        "    X_train = X_train.reshape(X_train.shape[0], 1, img_rows, img_cols)\n",
        "    X_test = X_test.reshape(X_test.shape[0], 1, img_rows, img_cols)\n",
        "    input_shape = (1, img_rows, img_cols)\n",
        "    \n",
        "else:\n",
        "    X_train = X_train.reshape(X_train.shape[0], img_rows, img_cols, 1)\n",
        "    X_test = X_test.reshape(X_test.shape[0], img_rows, img_cols, 1)\n",
        "    input_shape = (img_rows, img_cols, 1)\n",
        "\n",
        "X_train = X_train.astype('float32')\n",
        "X_test = X_test.astype('float32')\n",
        "X_train /= 255\n",
        "X_test /= 255\n",
        "\n",
        "print('X_train shape: ', X_train.shape)\n",
        "print(X_train.shape[0], ' amostras de treino')\n",
        "print(X_test.shape[0], ' amostras de teste')"
      ],
      "execution_count": 0,
      "outputs": [
        {
          "output_type": "stream",
          "text": [
            "X_train shape:  (60000, 28, 28, 1)\n",
            "60000  amostras de treino\n",
            "10000  amostras de teste\n"
          ],
          "name": "stdout"
        }
      ]
    },
    {
      "cell_type": "markdown",
      "metadata": {
        "id": "2GBqNWvYNQtb",
        "colab_type": "text"
      },
      "source": [
        "Conversão dos vetores de classe para matrizes de classes binárias"
      ]
    },
    {
      "cell_type": "code",
      "metadata": {
        "id": "CZ3sIBK5NQte",
        "colab_type": "code",
        "colab": {}
      },
      "source": [
        "y_train = keras.utils.to_categorical(y_train, num_classes)\n",
        "y_test = keras.utils.to_categorical(y_test, num_classes)"
      ],
      "execution_count": 0,
      "outputs": []
    },
    {
      "cell_type": "markdown",
      "metadata": {
        "id": "0GrD8LmbNQtr",
        "colab_type": "text"
      },
      "source": [
        "### Construção do modelo\n",
        "\n",
        "\n",
        "É necessário definir:\n",
        "\n",
        "- função de otimização\n",
        "\n",
        "- função de perda\n",
        "\n",
        "- métrica de performance\n",
        "\n",
        "- gráficos de performance (checar se houve overfitting)"
      ]
    },
    {
      "cell_type": "markdown",
      "metadata": {
        "id": "swn9JnXgNQtt",
        "colab_type": "text"
      },
      "source": [
        "O modelo terá duas camadas de convolução, uma de pooling, uma totalmente conectada e uma camada de softmax.\n",
        "\n",
        "\n",
        "A criação do modelo se deu pelo estudo dos modelos de François Chollet."
      ]
    },
    {
      "cell_type": "code",
      "metadata": {
        "id": "j9UXjN1bNQtx",
        "colab_type": "code",
        "colab": {}
      },
      "source": [
        "model = Sequential()\n",
        "\n",
        "model.add(Conv2D(32, kernel_size=(3,3),\n",
        "                activation='relu',\n",
        "                input_shape=input_shape))\n",
        "model.add(Conv2D(64, (3, 3), activation='relu'))\n",
        "model.add(MaxPooling2D(pool_size = (2, 2)))\n",
        "model.add(Dropout(0.25))\n",
        "model.add(Flatten())\n",
        "model.add(Dense(128, activation='relu'))\n",
        "model.add(Dropout(0.5))\n",
        "model.add(Dense(num_classes, activation='softmax'))\n",
        "\n",
        "model.compile(loss=keras.losses.categorical_crossentropy,\n",
        "             optimizer=keras.optimizers.Adadelta(),\n",
        "             metrics=['accuracy'])"
      ],
      "execution_count": 0,
      "outputs": []
    },
    {
      "cell_type": "code",
      "metadata": {
        "id": "pfFMHsbCNQt9",
        "colab_type": "code",
        "colab": {},
        "outputId": "d7da6bec-a515-42a1-f623-82d2743f2fdf"
      },
      "source": [
        "model.summary()"
      ],
      "execution_count": 0,
      "outputs": [
        {
          "output_type": "stream",
          "text": [
            "Model: \"sequential_1\"\n",
            "_________________________________________________________________\n",
            "Layer (type)                 Output Shape              Param #   \n",
            "=================================================================\n",
            "conv2d_1 (Conv2D)            (None, 26, 26, 32)        320       \n",
            "_________________________________________________________________\n",
            "conv2d_2 (Conv2D)            (None, 24, 24, 64)        18496     \n",
            "_________________________________________________________________\n",
            "max_pooling2d_1 (MaxPooling2 (None, 12, 12, 64)        0         \n",
            "_________________________________________________________________\n",
            "dropout_1 (Dropout)          (None, 12, 12, 64)        0         \n",
            "_________________________________________________________________\n",
            "flatten_1 (Flatten)          (None, 9216)              0         \n",
            "_________________________________________________________________\n",
            "dense_1 (Dense)              (None, 128)               1179776   \n",
            "_________________________________________________________________\n",
            "dropout_2 (Dropout)          (None, 128)               0         \n",
            "_________________________________________________________________\n",
            "dense_2 (Dense)              (None, 10)                1290      \n",
            "=================================================================\n",
            "Total params: 1,199,882\n",
            "Trainable params: 1,199,882\n",
            "Non-trainable params: 0\n",
            "_________________________________________________________________\n"
          ],
          "name": "stdout"
        }
      ]
    },
    {
      "cell_type": "code",
      "metadata": {
        "id": "GcDLD5scNQuK",
        "colab_type": "code",
        "colab": {},
        "outputId": "d62de8c7-cbce-4f38-f63f-390bb3520a6c"
      },
      "source": [
        "history = model.fit(X_train, y_train,\n",
        "         batch_size=batch_size,\n",
        "         epochs=epochs,\n",
        "         verbose=1,\n",
        "         validation_data=(X_test, y_test))"
      ],
      "execution_count": 0,
      "outputs": [
        {
          "output_type": "stream",
          "text": [
            "Train on 60000 samples, validate on 10000 samples\n",
            "Epoch 1/12\n",
            "60000/60000 [==============================] - 117s 2ms/step - loss: 0.2610 - accuracy: 0.9194 - val_loss: 0.0630 - val_accuracy: 0.9807\n",
            "Epoch 2/12\n",
            "60000/60000 [==============================] - 130s 2ms/step - loss: 0.0859 - accuracy: 0.9742 - val_loss: 0.0415 - val_accuracy: 0.9858\n",
            "Epoch 3/12\n",
            "60000/60000 [==============================] - 130s 2ms/step - loss: 0.0643 - accuracy: 0.9802 - val_loss: 0.0362 - val_accuracy: 0.9877\n",
            "Epoch 4/12\n",
            "60000/60000 [==============================] - 130s 2ms/step - loss: 0.0524 - accuracy: 0.9839 - val_loss: 0.0340 - val_accuracy: 0.9893\n",
            "Epoch 5/12\n",
            "60000/60000 [==============================] - 135s 2ms/step - loss: 0.0470 - accuracy: 0.9859 - val_loss: 0.0304 - val_accuracy: 0.9898\n",
            "Epoch 6/12\n",
            "60000/60000 [==============================] - 132s 2ms/step - loss: 0.0405 - accuracy: 0.9879 - val_loss: 0.0293 - val_accuracy: 0.9912\n",
            "Epoch 7/12\n",
            "60000/60000 [==============================] - 132s 2ms/step - loss: 0.0373 - accuracy: 0.9889 - val_loss: 0.0286 - val_accuracy: 0.9915\n",
            "Epoch 8/12\n",
            "60000/60000 [==============================] - 132s 2ms/step - loss: 0.0324 - accuracy: 0.9902 - val_loss: 0.0297 - val_accuracy: 0.9911\n",
            "Epoch 9/12\n",
            "60000/60000 [==============================] - 133s 2ms/step - loss: 0.0320 - accuracy: 0.9906 - val_loss: 0.0286 - val_accuracy: 0.9915\n",
            "Epoch 10/12\n",
            "60000/60000 [==============================] - 131s 2ms/step - loss: 0.0286 - accuracy: 0.9912 - val_loss: 0.0273 - val_accuracy: 0.9914\n",
            "Epoch 11/12\n",
            "60000/60000 [==============================] - 132s 2ms/step - loss: 0.0275 - accuracy: 0.9914 - val_loss: 0.0288 - val_accuracy: 0.9912\n",
            "Epoch 12/12\n",
            "60000/60000 [==============================] - 132s 2ms/step - loss: 0.0271 - accuracy: 0.9920 - val_loss: 0.0312 - val_accuracy: 0.9906\n"
          ],
          "name": "stdout"
        }
      ]
    },
    {
      "cell_type": "code",
      "metadata": {
        "id": "BCiO6pD7NQuW",
        "colab_type": "code",
        "colab": {},
        "outputId": "cd02718c-b467-4fce-db56-641f13191061"
      },
      "source": [
        "score = model.evaluate(X_test, y_test, verbose=0)\n",
        "\n",
        "print('Test loss: ', score[0]*100, '%')\n",
        "print('Test accuracy: ', score[1]*100, '%')"
      ],
      "execution_count": 0,
      "outputs": [
        {
          "output_type": "stream",
          "text": [
            "Test loss:  3.119254826845763 %\n",
            "Test accuracy:  99.05999898910522 %\n"
          ],
          "name": "stdout"
        }
      ]
    },
    {
      "cell_type": "code",
      "metadata": {
        "id": "ApnAd57SNQun",
        "colab_type": "code",
        "colab": {},
        "outputId": "f5e60743-09bb-49a6-ebb2-fb46f8744df6"
      },
      "source": [
        "history.history"
      ],
      "execution_count": 0,
      "outputs": [
        {
          "output_type": "execute_result",
          "data": {
            "text/plain": [
              "{'accuracy': [0.91941667,\n",
              "  0.97421664,\n",
              "  0.9802333,\n",
              "  0.9838833,\n",
              "  0.98588336,\n",
              "  0.98786664,\n",
              "  0.9889333,\n",
              "  0.9902,\n",
              "  0.9906,\n",
              "  0.9912,\n",
              "  0.9914,\n",
              "  0.992],\n",
              " 'loss': [0.26095864940087,\n",
              "  0.08594261697133382,\n",
              "  0.06430451882183552,\n",
              "  0.05241863372425238,\n",
              "  0.04702017349302769,\n",
              "  0.04050962066948414,\n",
              "  0.03731294538428386,\n",
              "  0.03236234627837936,\n",
              "  0.031967191125204165,\n",
              "  0.028582781280949713,\n",
              "  0.027539313942193985,\n",
              "  0.027059183792149027],\n",
              " 'val_accuracy': [0.9807000160217285,\n",
              "  0.98580002784729,\n",
              "  0.9876999855041504,\n",
              "  0.989300012588501,\n",
              "  0.989799976348877,\n",
              "  0.9911999702453613,\n",
              "  0.9915000200271606,\n",
              "  0.991100013256073,\n",
              "  0.9915000200271606,\n",
              "  0.9914000034332275,\n",
              "  0.9911999702453613,\n",
              "  0.9905999898910522],\n",
              " 'val_loss': [0.06295195191949605,\n",
              "  0.04148939852714539,\n",
              "  0.0361969499932602,\n",
              "  0.03396295747086406,\n",
              "  0.030438886093068867,\n",
              "  0.029269278832781128,\n",
              "  0.028638550310058054,\n",
              "  0.02966319086373842,\n",
              "  0.028550899161511916,\n",
              "  0.02729484976984968,\n",
              "  0.02881345860886504,\n",
              "  0.031192549066496576]}"
            ]
          },
          "metadata": {
            "tags": []
          },
          "execution_count": 20
        }
      ]
    },
    {
      "cell_type": "markdown",
      "metadata": {
        "id": "MAF4deEPNQu1",
        "colab_type": "text"
      },
      "source": [
        "## Análise de Acurácia"
      ]
    },
    {
      "cell_type": "code",
      "metadata": {
        "id": "Ttmx2D9UNQu4",
        "colab_type": "code",
        "colab": {},
        "outputId": "d7b0b430-f133-4c14-ea5f-b94cc771f6c2"
      },
      "source": [
        "acc = history.history['accuracy']\n",
        "val_acc = history.history['val_accuracy']\n",
        "loss = history.history['loss']\n",
        "val_loss = history.history['val_loss']\n",
        "\n",
        "epocas = range(len(acc))\n",
        "\n",
        "plt.plot(epocas, acc, 'bo', label=' Acc Treino')\n",
        "plt.plot(epocas, val_acc, 'b', label='Acc Validação')\n",
        "plt.title('Acurácia de Treinamento e Validação')\n",
        "plt.legend()\n",
        "\n",
        "plt.figure()\n",
        "\n",
        "plt.plot(epocas, loss, 'bo', label='Loss Treino')\n",
        "plt.plot(epocas, val_loss, 'b', label='Loss Validação')\n",
        "plt.title('Perda de Treinamento e Validação')\n",
        "plt.legend()\n",
        "\n",
        "plt.show()"
      ],
      "execution_count": 0,
      "outputs": [
        {
          "output_type": "display_data",
          "data": {
            "image/png": "[encoded data removed]",
            "text/plain": [
              "<Figure size 432x288 with 1 Axes>"
            ]
          },
          "metadata": {
            "tags": []
          }
        },
        {
          "output_type": "display_data",
          "data": {
            "image/png": "[encoded data removed]",
            "text/plain": [
              "<Figure size 432x288 with 1 Axes>"
            ]
          },
          "metadata": {
            "tags": []
          }
        }
      ]
    },
    {
      "cell_type": "markdown",
      "metadata": {
        "id": "iMw1muv6NQvF",
        "colab_type": "text"
      },
      "source": [
        "Aparentemente não houve overfitting, que seria o caso de a acurácia de treinamento aumentar (em taxa de variação) mais do que a acurácia de validação, por conta de tamanho amostral pequeno demais para aprendizado efetivo.\n",
        "\n",
        "Caso houvesse overfitting, poderia aplicar alguma de diversas técnicas. \n",
        "Um exemplo que achei bastante interessante é a de \"data augmentation\", usado por François Chollet para uma rede convolucional classificadora de imagens de gatos e cães (dataset do kaggle). Nesta técnica, são aplicadas transformações sobre os tensores de imagem, com \"ImageDataGenerator\", como rotação, zoom, etc, apresentando imagens aparentemente novas para o modelo, que em realidade são oriundas de imagens do dataset original, alimentando o modelo com mais dados."
      ]
    },
    {
      "cell_type": "code",
      "metadata": {
        "id": "GyJJEx3ANQvK",
        "colab_type": "code",
        "colab": {}
      },
      "source": [
        "#Salvando modelo\n",
        "model.save('reconhecimento_de_digitos_MNIST.h5')"
      ],
      "execution_count": 0,
      "outputs": []
    },
    {
      "cell_type": "markdown",
      "metadata": {
        "id": "GaE2sG-zNQvV",
        "colab_type": "text"
      },
      "source": [
        "Agora tentarei expor algumas das previsões de classificação de dígitos."
      ]
    },
    {
      "cell_type": "code",
      "metadata": {
        "id": "p_kCrvr5NQva",
        "colab_type": "code",
        "colab": {},
        "outputId": "0409d266-2d6b-4a25-a391-7662b146da72"
      },
      "source": [
        "plt.imshow(X_test[1000].reshape(28, 28), cmap='gray')\n",
        "previsao = model.predict([X_test])\n",
        "print(np.argmax(previsao[1000]))"
      ],
      "execution_count": 0,
      "outputs": [
        {
          "output_type": "stream",
          "text": [
            "9\n"
          ],
          "name": "stdout"
        },
        {
          "output_type": "display_data",
          "data": {
            "image/png": "[encoded data removed]",
            "text/plain": [
              "<Figure size 432x288 with 1 Axes>"
            ]
          },
          "metadata": {
            "tags": []
          }
        }
      ]
    },
    {
      "cell_type": "code",
      "metadata": {
        "id": "VD27ZQ_aNQvm",
        "colab_type": "code",
        "colab": {}
      },
      "source": [
        "def show_prediction(i):\n",
        "    plt.imshow(X_test[i].reshape(28, 28), cmap='gray')\n",
        "    previsao = model.predict([X_test])\n",
        "    print(np.argmax(previsao[i]))"
      ],
      "execution_count": 0,
      "outputs": []
    },
    {
      "cell_type": "code",
      "metadata": {
        "id": "uor9L11cNQvy",
        "colab_type": "code",
        "colab": {},
        "outputId": "481e4623-7b02-4989-c453-ab473e84908a"
      },
      "source": [
        "len(X_test)"
      ],
      "execution_count": 0,
      "outputs": [
        {
          "output_type": "execute_result",
          "data": {
            "text/plain": [
              "10000"
            ]
          },
          "metadata": {
            "tags": []
          },
          "execution_count": 40
        }
      ]
    },
    {
      "cell_type": "code",
      "metadata": {
        "id": "HhLSI6teNQv9",
        "colab_type": "code",
        "colab": {},
        "outputId": "ef0ae387-2181-492e-d8db-3064df4707d9"
      },
      "source": [
        "show_prediction(999)"
      ],
      "execution_count": 0,
      "outputs": [
        {
          "output_type": "stream",
          "text": [
            "9\n"
          ],
          "name": "stdout"
        },
        {
          "output_type": "display_data",
          "data": {
            "image/png": "[encoded data removed]",
            "text/plain": [
              "<Figure size 432x288 with 1 Axes>"
            ]
          },
          "metadata": {
            "tags": []
          }
        }
      ]
    },
    {
      "cell_type": "code",
      "metadata": {
        "id": "FDY6bfqgNQwK",
        "colab_type": "code",
        "colab": {},
        "outputId": "d6bdca4f-c5b7-4e78-a5b7-c7f2e6acd566"
      },
      "source": [
        "show_prediction(500)"
      ],
      "execution_count": 0,
      "outputs": [
        {
          "output_type": "stream",
          "text": [
            "3\n"
          ],
          "name": "stdout"
        },
        {
          "output_type": "display_data",
          "data": {
            "image/png": "[encoded data removed]",
            "text/plain": [
              "<Figure size 432x288 with 1 Axes>"
            ]
          },
          "metadata": {
            "tags": []
          }
        }
      ]
    },
    {
      "cell_type": "markdown",
      "metadata": {
        "id": "bH4yTQRQNQwU",
        "colab_type": "text"
      },
      "source": [
        "## Alguns Conceitos"
      ]
    },
    {
      "cell_type": "markdown",
      "metadata": {
        "id": "EMsh-sEANQwX",
        "colab_type": "text"
      },
      "source": [
        "### Operação de Convolução"
      ]
    },
    {
      "cell_type": "markdown",
      "metadata": {
        "id": "ymizxFj4NQwb",
        "colab_type": "text"
      },
      "source": [
        "![image.png](attachment:image.png)"
      ]
    },
    {
      "cell_type": "markdown",
      "metadata": {
        "id": "zjeMxGheNQwd",
        "colab_type": "text"
      },
      "source": [
        "Em terminologia de teoria de redes convolucionais, o primeiro argumento é referido ao input, e o segundo ao kernel, e o output é denominado \"feature map\"."
      ]
    },
    {
      "cell_type": "markdown",
      "metadata": {
        "id": "gdGaVbqSNQwg",
        "colab_type": "text"
      },
      "source": [
        "Figura-exemplo do filtro de convolução"
      ]
    },
    {
      "cell_type": "markdown",
      "metadata": {
        "id": "Pn3lPsLGNQwk",
        "colab_type": "text"
      },
      "source": [
        "![image.png](attachment:image.png)"
      ]
    },
    {
      "cell_type": "markdown",
      "metadata": {
        "id": "P2ur0jAxNQwm",
        "colab_type": "text"
      },
      "source": [
        "### Camada de Pooling\n",
        "\n",
        "\n",
        "É geralmente usada entre duas camadas de convolução, para reduzir o tamanho da representação, para reduzir o número de parâmetros e processamentos da rede.\n",
        "É aplicada independetemente para cada \"slice\" (filtrados da convolução) dos inputs, e reduz as dimensões do input.\n",
        "Desta maneira pode reduzir Overfitting.\n",
        "\n"
      ]
    },
    {
      "cell_type": "markdown",
      "metadata": {
        "id": "8P1ua3TjNQwu",
        "colab_type": "text"
      },
      "source": [
        "![image.png](attachment:image.png)"
      ]
    },
    {
      "cell_type": "markdown",
      "metadata": {
        "id": "vfmVFJ1YNQwx",
        "colab_type": "text"
      },
      "source": [
        "![image.png](attachment:image.png)"
      ]
    },
    {
      "cell_type": "markdown",
      "metadata": {
        "id": "H_k58l9KNQw0",
        "colab_type": "text"
      },
      "source": [
        "### Padding \n",
        "\n",
        "\n",
        "É usado para acrescentar pixels nas bordas das imagens, pois o filtro de convolução pode acabar priorizando pixels da região central. Isto é, quando aplicando o filtro de convolução, os pixels centrais tem maiores pesos.\n",
        "\n"
      ]
    },
    {
      "cell_type": "markdown",
      "metadata": {
        "id": "woRkoHyPNQw3",
        "colab_type": "text"
      },
      "source": [
        "### Striding\n",
        "\n",
        "A fim de reduzir o número de parâmetros e computações no feature map, dá \"pulos\" na seleção de pixels, durante a filtragem."
      ]
    },
    {
      "cell_type": "markdown",
      "metadata": {
        "id": "X5hJiIV_NQw6",
        "colab_type": "text"
      },
      "source": [
        "### Figura-Exemplo de Rede Neural Convolucional\n",
        "\n",
        "![image.png](attachment:image.png)"
      ]
    }
  ]
}